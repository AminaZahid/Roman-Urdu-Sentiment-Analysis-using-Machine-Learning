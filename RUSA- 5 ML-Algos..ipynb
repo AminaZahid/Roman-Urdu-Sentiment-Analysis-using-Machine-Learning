{
 "cells": [
  {
   "cell_type": "code",
   "execution_count": 1,
   "id": "d63c86fc",
   "metadata": {},
   "outputs": [],
   "source": [
    "import matplotlib.pyplot as plt\n",
    "import seaborn as sns\n",
    "import pandas as pd\n",
    "import numpy as np \n",
    "import os"
   ]
  },
  {
   "cell_type": "code",
   "execution_count": 2,
   "id": "bd541ad7",
   "metadata": {},
   "outputs": [],
   "source": [
    "from sklearn.preprocessing import LabelEncoder\n",
    "from sklearn.model_selection import train_test_split\n",
    "from sklearn.feature_extraction.text import TfidfVectorizer\n",
    "\n",
    "# Machine Learning Models\n",
    "from sklearn import svm  \n",
    "from sklearn.naive_bayes import GaussianNB\n",
    "from sklearn.linear_model import LogisticRegression\n",
    "from sklearn.tree import DecisionTreeClassifier\n",
    "from sklearn.ensemble import RandomForestClassifier\n",
    "from sklearn.ensemble import GradientBoostingClassifier\n",
    "from sklearn.ensemble import AdaBoostClassifier\n",
    "import xgboost as xgb\n",
    "\n",
    "# Model Evaluation Libraries\n",
    "from sklearn.metrics import classification_report, confusion_matrix"
   ]
  },
  {
   "cell_type": "code",
   "execution_count": 48,
   "id": "7519e4ca",
   "metadata": {},
   "outputs": [],
   "source": [
    "data = pd.read_csv(\"RUD-2.csv\")"
   ]
  },
  {
   "cell_type": "code",
   "execution_count": 49,
   "id": "61506c57",
   "metadata": {},
   "outputs": [
    {
     "data": {
      "text/html": [
       "<div>\n",
       "<style scoped>\n",
       "    .dataframe tbody tr th:only-of-type {\n",
       "        vertical-align: middle;\n",
       "    }\n",
       "\n",
       "    .dataframe tbody tr th {\n",
       "        vertical-align: top;\n",
       "    }\n",
       "\n",
       "    .dataframe thead th {\n",
       "        text-align: right;\n",
       "    }\n",
       "</style>\n",
       "<table border=\"1\" class=\"dataframe\">\n",
       "  <thead>\n",
       "    <tr style=\"text-align: right;\">\n",
       "      <th></th>\n",
       "      <th>Text</th>\n",
       "      <th>Sentiment (POS/NEG/NEU)</th>\n",
       "    </tr>\n",
       "  </thead>\n",
       "  <tbody>\n",
       "    <tr>\n",
       "      <th>0</th>\n",
       "      <td>Shan Food ki quality bohat zabardast ha ...boh...</td>\n",
       "      <td>pos</td>\n",
       "    </tr>\n",
       "    <tr>\n",
       "      <th>1</th>\n",
       "      <td>ye bohat mazaydar ha</td>\n",
       "      <td>pos</td>\n",
       "    </tr>\n",
       "    <tr>\n",
       "      <th>2</th>\n",
       "      <td>Shan food bohat achi company hain, mujay in k ...</td>\n",
       "      <td>pos</td>\n",
       "    </tr>\n",
       "    <tr>\n",
       "      <th>3</th>\n",
       "      <td>bohat acha pakistani brand ha..zabardast quality</td>\n",
       "      <td>pos</td>\n",
       "    </tr>\n",
       "    <tr>\n",
       "      <th>4</th>\n",
       "      <td>Hamare ghar me yehi msale use hote hain meri a...</td>\n",
       "      <td>pos</td>\n",
       "    </tr>\n",
       "  </tbody>\n",
       "</table>\n",
       "</div>"
      ],
      "text/plain": [
       "                                                Text Sentiment (POS/NEG/NEU)\n",
       "0  Shan Food ki quality bohat zabardast ha ...boh...                     pos\n",
       "1                               ye bohat mazaydar ha                     pos\n",
       "2  Shan food bohat achi company hain, mujay in k ...                     pos\n",
       "3   bohat acha pakistani brand ha..zabardast quality                     pos\n",
       "4  Hamare ghar me yehi msale use hote hain meri a...                     pos"
      ]
     },
     "execution_count": 49,
     "metadata": {},
     "output_type": "execute_result"
    }
   ],
   "source": [
    "data.head()"
   ]
  },
  {
   "cell_type": "code",
   "execution_count": 25,
   "id": "fb8d5393",
   "metadata": {},
   "outputs": [
    {
     "name": "stdout",
     "output_type": "stream",
     "text": [
      "Shape of Training Set  (21940, 2) \n",
      "Shape of Testing Set  (21940, 2)\n"
     ]
    }
   ],
   "source": [
    "train =  pd.read_csv('RUD-2.csv')\n",
    "test =   pd.read_csv('RUD-2.csv')\n",
    "print('Shape of Training Set ' , train.shape,'\\nShape of Testing Set ', test.shape)"
   ]
  },
  {
   "cell_type": "code",
   "execution_count": 26,
   "id": "40b79c25",
   "metadata": {},
   "outputs": [
    {
     "name": "stdout",
     "output_type": "stream",
     "text": [
      "(43880, 2)\n"
     ]
    }
   ],
   "source": [
    "data =  pd.concat([train, test]).reset_index(drop=True)\n",
    "print(data.shape)"
   ]
  },
  {
   "cell_type": "code",
   "execution_count": 27,
   "id": "265eb2dd",
   "metadata": {},
   "outputs": [],
   "source": [
    "df =  data.copy()"
   ]
  },
  {
   "cell_type": "code",
   "execution_count": 28,
   "id": "d00f75a1",
   "metadata": {},
   "outputs": [
    {
     "data": {
      "text/html": [
       "<div>\n",
       "<style scoped>\n",
       "    .dataframe tbody tr th:only-of-type {\n",
       "        vertical-align: middle;\n",
       "    }\n",
       "\n",
       "    .dataframe tbody tr th {\n",
       "        vertical-align: top;\n",
       "    }\n",
       "\n",
       "    .dataframe thead th {\n",
       "        text-align: right;\n",
       "    }\n",
       "</style>\n",
       "<table border=\"1\" class=\"dataframe\">\n",
       "  <thead>\n",
       "    <tr style=\"text-align: right;\">\n",
       "      <th></th>\n",
       "      <th>Text</th>\n",
       "      <th>Sentiment (POS/NEG/NEU)</th>\n",
       "    </tr>\n",
       "  </thead>\n",
       "  <tbody>\n",
       "    <tr>\n",
       "      <th>0</th>\n",
       "      <td>Shan Food ki quality bohat zabardast ha ...boh...</td>\n",
       "      <td>pos</td>\n",
       "    </tr>\n",
       "    <tr>\n",
       "      <th>1</th>\n",
       "      <td>ye bohat mazaydar ha</td>\n",
       "      <td>pos</td>\n",
       "    </tr>\n",
       "    <tr>\n",
       "      <th>2</th>\n",
       "      <td>Shan food bohat achi company hain, mujay in k ...</td>\n",
       "      <td>pos</td>\n",
       "    </tr>\n",
       "    <tr>\n",
       "      <th>3</th>\n",
       "      <td>bohat acha pakistani brand ha..zabardast quality</td>\n",
       "      <td>pos</td>\n",
       "    </tr>\n",
       "    <tr>\n",
       "      <th>4</th>\n",
       "      <td>Hamare ghar me yehi msale use hote hain meri a...</td>\n",
       "      <td>pos</td>\n",
       "    </tr>\n",
       "  </tbody>\n",
       "</table>\n",
       "</div>"
      ],
      "text/plain": [
       "                                                Text Sentiment (POS/NEG/NEU)\n",
       "0  Shan Food ki quality bohat zabardast ha ...boh...                     pos\n",
       "1                               ye bohat mazaydar ha                     pos\n",
       "2  Shan food bohat achi company hain, mujay in k ...                     pos\n",
       "3   bohat acha pakistani brand ha..zabardast quality                     pos\n",
       "4  Hamare ghar me yehi msale use hote hain meri a...                     pos"
      ]
     },
     "execution_count": 28,
     "metadata": {},
     "output_type": "execute_result"
    }
   ],
   "source": [
    "df.head()"
   ]
  },
  {
   "cell_type": "code",
   "execution_count": 29,
   "id": "9bf14444",
   "metadata": {},
   "outputs": [],
   "source": [
    "#sns.countplot( x = 'Sentiment (POS/NEG/NEU)', data = df );"
   ]
  },
  {
   "cell_type": "code",
   "execution_count": 30,
   "id": "e118c818",
   "metadata": {},
   "outputs": [],
   "source": [
    "le = LabelEncoder()\n",
    "le.fit(df['Sentiment (POS/NEG/NEU)'])\n",
    "df['encoded_Sentiment (POS/NEG/NEU)'] = le.transform(df['Sentiment (POS/NEG/NEU)'])"
   ]
  },
  {
   "cell_type": "code",
   "execution_count": 31,
   "id": "38b732f2",
   "metadata": {},
   "outputs": [
    {
     "data": {
      "text/html": [
       "<div>\n",
       "<style scoped>\n",
       "    .dataframe tbody tr th:only-of-type {\n",
       "        vertical-align: middle;\n",
       "    }\n",
       "\n",
       "    .dataframe tbody tr th {\n",
       "        vertical-align: top;\n",
       "    }\n",
       "\n",
       "    .dataframe thead th {\n",
       "        text-align: right;\n",
       "    }\n",
       "</style>\n",
       "<table border=\"1\" class=\"dataframe\">\n",
       "  <thead>\n",
       "    <tr style=\"text-align: right;\">\n",
       "      <th></th>\n",
       "      <th>Text</th>\n",
       "      <th>Sentiment (POS/NEG/NEU)</th>\n",
       "      <th>encoded_Sentiment (POS/NEG/NEU)</th>\n",
       "    </tr>\n",
       "  </thead>\n",
       "  <tbody>\n",
       "    <tr>\n",
       "      <th>0</th>\n",
       "      <td>Shan Food ki quality bohat zabardast ha ...boh...</td>\n",
       "      <td>pos</td>\n",
       "      <td>15</td>\n",
       "    </tr>\n",
       "    <tr>\n",
       "      <th>1</th>\n",
       "      <td>ye bohat mazaydar ha</td>\n",
       "      <td>pos</td>\n",
       "      <td>15</td>\n",
       "    </tr>\n",
       "    <tr>\n",
       "      <th>2</th>\n",
       "      <td>Shan food bohat achi company hain, mujay in k ...</td>\n",
       "      <td>pos</td>\n",
       "      <td>15</td>\n",
       "    </tr>\n",
       "    <tr>\n",
       "      <th>3</th>\n",
       "      <td>bohat acha pakistani brand ha..zabardast quality</td>\n",
       "      <td>pos</td>\n",
       "      <td>15</td>\n",
       "    </tr>\n",
       "    <tr>\n",
       "      <th>4</th>\n",
       "      <td>Hamare ghar me yehi msale use hote hain meri a...</td>\n",
       "      <td>pos</td>\n",
       "      <td>15</td>\n",
       "    </tr>\n",
       "  </tbody>\n",
       "</table>\n",
       "</div>"
      ],
      "text/plain": [
       "                                                Text Sentiment (POS/NEG/NEU)  \\\n",
       "0  Shan Food ki quality bohat zabardast ha ...boh...                     pos   \n",
       "1                               ye bohat mazaydar ha                     pos   \n",
       "2  Shan food bohat achi company hain, mujay in k ...                     pos   \n",
       "3   bohat acha pakistani brand ha..zabardast quality                     pos   \n",
       "4  Hamare ghar me yehi msale use hote hain meri a...                     pos   \n",
       "\n",
       "   encoded_Sentiment (POS/NEG/NEU)  \n",
       "0                               15  \n",
       "1                               15  \n",
       "2                               15  \n",
       "3                               15  \n",
       "4                               15  "
      ]
     },
     "execution_count": 31,
     "metadata": {},
     "output_type": "execute_result"
    }
   ],
   "source": [
    "df.head()"
   ]
  },
  {
   "cell_type": "code",
   "execution_count": 32,
   "id": "8b4c473b",
   "metadata": {},
   "outputs": [],
   "source": [
    "X_train, X_test, Y_train, Y_test = train_test_split(df['Text'], df['encoded_Sentiment (POS/NEG/NEU)'], test_size = 0.30, random_state = 7)"
   ]
  },
  {
   "cell_type": "code",
   "execution_count": 33,
   "id": "f6f8327d",
   "metadata": {},
   "outputs": [
    {
     "name": "stdout",
     "output_type": "stream",
     "text": [
      "Shape of X_train (30716,)\n",
      "Shape of X_test (13164,)\n",
      "Shape of Y_train (30716,)\n",
      "Shape of Y_test (13164,)\n"
     ]
    }
   ],
   "source": [
    "print('Shape of X_train', X_train.shape)\n",
    "print('Shape of X_test', X_test.shape)\n",
    "print('Shape of Y_train', Y_train.shape)\n",
    "print('Shape of Y_test', Y_test.shape)"
   ]
  },
  {
   "cell_type": "code",
   "execution_count": 34,
   "id": "46d644cc",
   "metadata": {},
   "outputs": [],
   "source": [
    "max_feature_num = 50000\n",
    "vectorizer = TfidfVectorizer(max_features=max_feature_num)\n",
    "train_vecs = vectorizer.fit_transform(X_train)\n",
    "test_vecs = TfidfVectorizer(max_features=max_feature_num, vocabulary=vectorizer.vocabulary_).fit_transform(X_test)"
   ]
  },
  {
   "cell_type": "code",
   "execution_count": 35,
   "id": "ecd235e5",
   "metadata": {},
   "outputs": [],
   "source": [
    "def SVM_classifier(train_vecs, Y_train, test_vecs, Y_test):\n",
    "    # Training\n",
    "    SVM = svm.LinearSVC(max_iter=100)\n",
    "    SVM.fit(train_vecs, Y_train)\n",
    "\n",
    "    # Testing\n",
    "    test_predictionSVM = SVM.predict(test_vecs)\n",
    "    return classification_report(test_predictionSVM, Y_test), confusion_matrix(test_predictionSVM, Y_test)"
   ]
  },
  {
   "cell_type": "code",
   "execution_count": 36,
   "id": "b30fdc46",
   "metadata": {},
   "outputs": [],
   "source": [
    "def LR_classifier(train_vecs, Y_train, test_vecs, Y_test):\n",
    "    # Training\n",
    "    LR = LogisticRegression()\n",
    "    LR.fit(train_vecs, Y_train)\n",
    "\n",
    "    # testing\n",
    "    test_predictionLR = LR.predict(test_vecs)\n",
    "    return classification_report(test_predictionLR, Y_test) , confusion_matrix(test_predictionLR, Y_test)"
   ]
  },
  {
   "cell_type": "code",
   "execution_count": 37,
   "id": "17a08cd7",
   "metadata": {},
   "outputs": [],
   "source": [
    "def DT_classifier(train_vecs, Y_train, test_vecs, Y_test):\n",
    "    # Training\n",
    "    DT = DecisionTreeClassifier(max_depth = 9, random_state = 23 )\n",
    "    DT.fit(train_vecs, Y_train)\n",
    "\n",
    "    # Testing\n",
    "    test_predictionDT = DT.predict(test_vecs)\n",
    "    return classification_report(test_predictionDT, Y_test), confusion_matrix(test_predictionDT, Y_test) "
   ]
  },
  {
   "cell_type": "code",
   "execution_count": 38,
   "id": "d5729a6d",
   "metadata": {},
   "outputs": [],
   "source": [
    "def XGB_classifier(train_vecs, Y_train, test_vecs, Y_test):\n",
    "    # Training\n",
    "    XGB = xgb.XGBClassifier(colsample_bytree = 0.2, learning_rate = 0.01, n_estimators = 100)\n",
    "    XGB.fit(train_vecs, Y_train)\n",
    "\n",
    "    # Testing\n",
    "    test_predictionXGB = XGB.predict(test_vecs)\n",
    "    return classification_report(test_predictionXGB, Y_test), confusion_matrix(test_predictionXGB, Y_test) "
   ]
  },
  {
   "cell_type": "code",
   "execution_count": 39,
   "id": "b627f57f",
   "metadata": {},
   "outputs": [],
   "source": [
    "def RF_classifier(train_vecs, Y_train, test_vecs, Y_test):\n",
    "    # Training\n",
    "    RF = RandomForestClassifier(n_estimators = 450, max_depth=9, random_state=43)\n",
    "    RF.fit(train_vecs, Y_train)\n",
    "\n",
    "    # Testing\n",
    "    test_predictionRF = RF.predict(test_vecs)\n",
    "    return classification_report(test_predictionRF, Y_test), confusion_matrix(test_predictionRF, Y_test)"
   ]
  },
  {
   "cell_type": "code",
   "execution_count": 40,
   "id": "f5d31da3",
   "metadata": {},
   "outputs": [
    {
     "name": "stdout",
     "output_type": "stream",
     "text": [
      "Results of SVM Classifier on TF-IDF Vectorizer\n",
      "              precision    recall  f1-score   support\n",
      "\n",
      "           0       0.77      0.85      0.81       865\n",
      "           2       0.71      0.78      0.74      1372\n",
      "           4       0.67      1.00      0.80         2\n",
      "           6       0.88      0.83      0.85      1817\n",
      "           7       0.00      0.00      0.00         2\n",
      "           8       0.00      0.00      0.00         0\n",
      "           9       0.80      0.83      0.81      1807\n",
      "          10       0.00      0.00      0.00         0\n",
      "          11       0.93      0.87      0.90      5729\n",
      "          12       1.00      1.00      1.00         1\n",
      "          15       0.83      0.90      0.86      1569\n",
      "\n",
      "    accuracy                           0.85     13164\n",
      "   macro avg       0.60      0.64      0.62     13164\n",
      "weighted avg       0.86      0.85      0.85     13164\n",
      "\n",
      "[[ 736   65    0   20    0    0   29    0   15    0    0]\n",
      " [  70 1067    1  126    0    0   21    0   77    0   10]\n",
      " [   0    0    2    0    0    0    0    0    0    0    0]\n",
      " [  64  180    0 1505    0    0   13    0   22    0   33]\n",
      " [   0    0    0    2    0    0    0    0    0    0    0]\n",
      " [   0    0    0    0    0    0    0    0    0    0    0]\n",
      " [  48   21    0    3    0    0 1502    1  201    0   31]\n",
      " [   0    0    0    0    0    0    0    0    0    0    0]\n",
      " [  34  162    0   26    0    3  303    0 4983    0  218]\n",
      " [   0    0    0    0    0    0    0    0    0    1    0]\n",
      " [   2   13    0   33    0    0   21    0   83    0 1417]]\n"
     ]
    },
    {
     "name": "stderr",
     "output_type": "stream",
     "text": [
      "E:\\anaconda\\envs\\tensorflow\\lib\\site-packages\\sklearn\\metrics\\_classification.py:1318: UndefinedMetricWarning: Precision and F-score are ill-defined and being set to 0.0 in labels with no predicted samples. Use `zero_division` parameter to control this behavior.\n",
      "  _warn_prf(average, modifier, msg_start, len(result))\n",
      "E:\\anaconda\\envs\\tensorflow\\lib\\site-packages\\sklearn\\metrics\\_classification.py:1318: UndefinedMetricWarning: Recall and F-score are ill-defined and being set to 0.0 in labels with no true samples. Use `zero_division` parameter to control this behavior.\n",
      "  _warn_prf(average, modifier, msg_start, len(result))\n",
      "E:\\anaconda\\envs\\tensorflow\\lib\\site-packages\\sklearn\\metrics\\_classification.py:1318: UndefinedMetricWarning: Precision and F-score are ill-defined and being set to 0.0 in labels with no predicted samples. Use `zero_division` parameter to control this behavior.\n",
      "  _warn_prf(average, modifier, msg_start, len(result))\n",
      "E:\\anaconda\\envs\\tensorflow\\lib\\site-packages\\sklearn\\metrics\\_classification.py:1318: UndefinedMetricWarning: Recall and F-score are ill-defined and being set to 0.0 in labels with no true samples. Use `zero_division` parameter to control this behavior.\n",
      "  _warn_prf(average, modifier, msg_start, len(result))\n",
      "E:\\anaconda\\envs\\tensorflow\\lib\\site-packages\\sklearn\\metrics\\_classification.py:1318: UndefinedMetricWarning: Precision and F-score are ill-defined and being set to 0.0 in labels with no predicted samples. Use `zero_division` parameter to control this behavior.\n",
      "  _warn_prf(average, modifier, msg_start, len(result))\n",
      "E:\\anaconda\\envs\\tensorflow\\lib\\site-packages\\sklearn\\metrics\\_classification.py:1318: UndefinedMetricWarning: Recall and F-score are ill-defined and being set to 0.0 in labels with no true samples. Use `zero_division` parameter to control this behavior.\n",
      "  _warn_prf(average, modifier, msg_start, len(result))\n"
     ]
    }
   ],
   "source": [
    "class_report , conf_matrix = SVM_classifier(train_vecs, Y_train, test_vecs, Y_test)\n",
    "print('Results of SVM Classifier on TF-IDF Vectorizer')\n",
    "print(class_report)\n",
    "print(conf_matrix)"
   ]
  },
  {
   "cell_type": "code",
   "execution_count": 41,
   "id": "53022b75",
   "metadata": {},
   "outputs": [
    {
     "name": "stderr",
     "output_type": "stream",
     "text": [
      "E:\\anaconda\\envs\\tensorflow\\lib\\site-packages\\sklearn\\linear_model\\_logistic.py:818: ConvergenceWarning: lbfgs failed to converge (status=1):\n",
      "STOP: TOTAL NO. of ITERATIONS REACHED LIMIT.\n",
      "\n",
      "Increase the number of iterations (max_iter) or scale the data as shown in:\n",
      "    https://scikit-learn.org/stable/modules/preprocessing.html\n",
      "Please also refer to the documentation for alternative solver options:\n",
      "    https://scikit-learn.org/stable/modules/linear_model.html#logistic-regression\n",
      "  extra_warning_msg=_LOGISTIC_SOLVER_CONVERGENCE_MSG,\n",
      "E:\\anaconda\\envs\\tensorflow\\lib\\site-packages\\sklearn\\metrics\\_classification.py:1318: UndefinedMetricWarning: Recall and F-score are ill-defined and being set to 0.0 in labels with no true samples. Use `zero_division` parameter to control this behavior.\n",
      "  _warn_prf(average, modifier, msg_start, len(result))\n",
      "E:\\anaconda\\envs\\tensorflow\\lib\\site-packages\\sklearn\\metrics\\_classification.py:1318: UndefinedMetricWarning: Recall and F-score are ill-defined and being set to 0.0 in labels with no true samples. Use `zero_division` parameter to control this behavior.\n",
      "  _warn_prf(average, modifier, msg_start, len(result))\n",
      "E:\\anaconda\\envs\\tensorflow\\lib\\site-packages\\sklearn\\metrics\\_classification.py:1318: UndefinedMetricWarning: Recall and F-score are ill-defined and being set to 0.0 in labels with no true samples. Use `zero_division` parameter to control this behavior.\n",
      "  _warn_prf(average, modifier, msg_start, len(result))\n"
     ]
    },
    {
     "name": "stdout",
     "output_type": "stream",
     "text": [
      "Results of Logistic Regression Classifier on TF-IDF Vectorizer\n",
      "              precision    recall  f1-score   support\n",
      "\n",
      "           0       0.50      0.77      0.60       614\n",
      "           2       0.56      0.68      0.61      1231\n",
      "           4       0.00      0.00      0.00         0\n",
      "           6       0.78      0.78      0.78      1710\n",
      "           8       0.00      0.00      0.00         0\n",
      "           9       0.61      0.77      0.68      1492\n",
      "          10       0.00      0.00      0.00         0\n",
      "          11       0.93      0.74      0.83      6733\n",
      "          12       0.00      0.00      0.00         0\n",
      "          15       0.70      0.86      0.77      1384\n",
      "\n",
      "    accuracy                           0.76     13164\n",
      "   macro avg       0.41      0.46      0.43     13164\n",
      "weighted avg       0.79      0.76      0.77     13164\n",
      "\n",
      "[[ 474   72    0   26    0   24    0   15    0    3]\n",
      " [ 129  837    1  171    0   16    0   62    0   15]\n",
      " [   0    0    0    0    0    0    0    0    0    0]\n",
      " [ 106  202    1 1338    0   11    0   23    0   29]\n",
      " [   0    0    0    0    0    0    0    0    0    0]\n",
      " [  69   25    0    6    0 1150    1  195    1   45]\n",
      " [   0    0    0    0    0    0    0    0    0    0]\n",
      " [ 170  355    1  122    3  655    0 4998    0  429]\n",
      " [   0    0    0    0    0    0    0    0    0    0]\n",
      " [   6   17    0   52    0   33    0   88    0 1188]]\n"
     ]
    }
   ],
   "source": [
    "class_report , conf_matrix = LR_classifier(train_vecs, Y_train, test_vecs, Y_test)\n",
    "print('Results of Logistic Regression Classifier on TF-IDF Vectorizer')\n",
    "print(class_report)\n",
    "print(conf_matrix)"
   ]
  },
  {
   "cell_type": "code",
   "execution_count": 42,
   "id": "50d0b6c7",
   "metadata": {},
   "outputs": [
    {
     "name": "stdout",
     "output_type": "stream",
     "text": [
      "Results of Decision Tree Classifier on TF-IDF Vectorizer\n",
      "              precision    recall  f1-score   support\n",
      "\n",
      "           0       0.34      0.45      0.39       727\n",
      "           2       0.11      0.32      0.16       509\n",
      "           4       0.00      0.00      0.00         0\n",
      "           6       0.39      0.57      0.46      1173\n",
      "           8       0.00      0.00      0.00         0\n",
      "           9       0.16      0.78      0.26       384\n",
      "          10       0.00      0.00      0.00         0\n",
      "          11       0.92      0.51      0.66      9753\n",
      "          12       1.00      1.00      1.00         1\n",
      "          15       0.24      0.66      0.35       617\n",
      "\n",
      "    accuracy                           0.52     13164\n",
      "   macro avg       0.32      0.43      0.33     13164\n",
      "weighted avg       0.76      0.52      0.58     13164\n",
      "\n",
      "[[ 327  146    0   67    0  109    0   71    0    7]\n",
      " [  43  161    0  108    0   26    0  157    0   14]\n",
      " [   0    0    0    0    0    0    0    0    0    0]\n",
      " [ 136  224    1  669    0   33    0   64    0   46]\n",
      " [   0    0    0    0    0    0    0    0    0    0]\n",
      " [   6    4    0    2    0  301    0   57    0   14]\n",
      " [   0    0    0    0    0    0    0    0    0    0]\n",
      " [ 434  950    2  773    3 1400    1 4969    0 1221]\n",
      " [   0    0    0    0    0    0    0    0    1    0]\n",
      " [   8   23    0   96    0   20    0   63    0  407]]\n"
     ]
    },
    {
     "name": "stderr",
     "output_type": "stream",
     "text": [
      "E:\\anaconda\\envs\\tensorflow\\lib\\site-packages\\sklearn\\metrics\\_classification.py:1318: UndefinedMetricWarning: Recall and F-score are ill-defined and being set to 0.0 in labels with no true samples. Use `zero_division` parameter to control this behavior.\n",
      "  _warn_prf(average, modifier, msg_start, len(result))\n",
      "E:\\anaconda\\envs\\tensorflow\\lib\\site-packages\\sklearn\\metrics\\_classification.py:1318: UndefinedMetricWarning: Recall and F-score are ill-defined and being set to 0.0 in labels with no true samples. Use `zero_division` parameter to control this behavior.\n",
      "  _warn_prf(average, modifier, msg_start, len(result))\n",
      "E:\\anaconda\\envs\\tensorflow\\lib\\site-packages\\sklearn\\metrics\\_classification.py:1318: UndefinedMetricWarning: Recall and F-score are ill-defined and being set to 0.0 in labels with no true samples. Use `zero_division` parameter to control this behavior.\n",
      "  _warn_prf(average, modifier, msg_start, len(result))\n"
     ]
    }
   ],
   "source": [
    "class_report , conf_matrix = DT_classifier(train_vecs, Y_train, test_vecs, Y_test)\n",
    "print('Results of Decision Tree Classifier on TF-IDF Vectorizer')\n",
    "print(class_report)\n",
    "print(conf_matrix)"
   ]
  },
  {
   "cell_type": "code",
   "execution_count": 43,
   "id": "6417cf2b",
   "metadata": {},
   "outputs": [
    {
     "name": "stdout",
     "output_type": "stream",
     "text": [
      "Results of Xgboost Classifier on TF-IDF Vectorizer\n",
      "              precision    recall  f1-score   support\n",
      "\n",
      "           0       0.11      0.81      0.20       132\n",
      "           2       0.08      0.70      0.15       177\n",
      "           4       0.00      0.00      0.00         0\n",
      "           6       0.36      0.74      0.48       826\n",
      "           8       0.00      0.00      0.00         0\n",
      "           9       0.07      0.82      0.12       150\n",
      "          10       0.00      0.00      0.00         0\n",
      "          11       1.00      0.46      0.63     11605\n",
      "          12       0.00      0.00      0.00         0\n",
      "          15       0.15      0.91      0.25       274\n",
      "\n",
      "    accuracy                           0.50     13164\n",
      "   macro avg       0.18      0.44      0.18     13164\n",
      "weighted avg       0.91      0.50      0.60     13164\n",
      "\n",
      "[[ 107   17    0    8    0    0    0    0    0    0]\n",
      " [  25  124    0   28    0    0    0    0    0    0]\n",
      " [   0    0    0    0    0    0    0    0    0    0]\n",
      " [  86  120    1  612    0    0    0    0    0    7]\n",
      " [   0    0    0    0    0    0    0    0    0    0]\n",
      " [   7    2    0    0    0  123    0   14    0    4]\n",
      " [   0    0    0    0    0    0    0    0    0    0]\n",
      " [ 727 1244    2 1046    3 1765    1 5367    1 1449]\n",
      " [   0    0    0    0    0    0    0    0    0    0]\n",
      " [   2    1    0   21    0    1    0    0    0  249]]\n"
     ]
    },
    {
     "name": "stderr",
     "output_type": "stream",
     "text": [
      "E:\\anaconda\\envs\\tensorflow\\lib\\site-packages\\sklearn\\metrics\\_classification.py:1318: UndefinedMetricWarning: Recall and F-score are ill-defined and being set to 0.0 in labels with no true samples. Use `zero_division` parameter to control this behavior.\n",
      "  _warn_prf(average, modifier, msg_start, len(result))\n",
      "E:\\anaconda\\envs\\tensorflow\\lib\\site-packages\\sklearn\\metrics\\_classification.py:1318: UndefinedMetricWarning: Recall and F-score are ill-defined and being set to 0.0 in labels with no true samples. Use `zero_division` parameter to control this behavior.\n",
      "  _warn_prf(average, modifier, msg_start, len(result))\n",
      "E:\\anaconda\\envs\\tensorflow\\lib\\site-packages\\sklearn\\metrics\\_classification.py:1318: UndefinedMetricWarning: Recall and F-score are ill-defined and being set to 0.0 in labels with no true samples. Use `zero_division` parameter to control this behavior.\n",
      "  _warn_prf(average, modifier, msg_start, len(result))\n"
     ]
    }
   ],
   "source": [
    "class_report , conf_matrix = XGB_classifier(train_vecs, Y_train, test_vecs, Y_test)\n",
    "print('Results of Xgboost Classifier on TF-IDF Vectorizer')\n",
    "print(class_report)\n",
    "print(conf_matrix)"
   ]
  },
  {
   "cell_type": "code",
   "execution_count": 44,
   "id": "47af4397",
   "metadata": {},
   "outputs": [
    {
     "name": "stderr",
     "output_type": "stream",
     "text": [
      "E:\\anaconda\\envs\\tensorflow\\lib\\site-packages\\sklearn\\metrics\\_classification.py:1318: UndefinedMetricWarning: Recall and F-score are ill-defined and being set to 0.0 in labels with no true samples. Use `zero_division` parameter to control this behavior.\n",
      "  _warn_prf(average, modifier, msg_start, len(result))\n",
      "E:\\anaconda\\envs\\tensorflow\\lib\\site-packages\\sklearn\\metrics\\_classification.py:1318: UndefinedMetricWarning: Recall and F-score are ill-defined and being set to 0.0 in labels with no true samples. Use `zero_division` parameter to control this behavior.\n",
      "  _warn_prf(average, modifier, msg_start, len(result))\n",
      "E:\\anaconda\\envs\\tensorflow\\lib\\site-packages\\sklearn\\metrics\\_classification.py:1318: UndefinedMetricWarning: Recall and F-score are ill-defined and being set to 0.0 in labels with no true samples. Use `zero_division` parameter to control this behavior.\n",
      "  _warn_prf(average, modifier, msg_start, len(result))\n"
     ]
    },
    {
     "name": "stdout",
     "output_type": "stream",
     "text": [
      "Results of Random Forest Classifier on TF-IDF Vectorizer\n",
      "              precision    recall  f1-score   support\n",
      "\n",
      "           0       0.00      0.00      0.00         0\n",
      "           2       0.00      0.00      0.00         0\n",
      "           4       0.00      0.00      0.00         0\n",
      "           6       0.00      0.60      0.00         5\n",
      "           8       0.00      0.00      0.00         0\n",
      "           9       0.00      0.00      0.00         0\n",
      "          10       0.00      0.00      0.00         0\n",
      "          11       1.00      0.41      0.58     13159\n",
      "          12       0.00      0.00      0.00         0\n",
      "          15       0.00      0.00      0.00         0\n",
      "\n",
      "    accuracy                           0.41     13164\n",
      "   macro avg       0.10      0.10      0.06     13164\n",
      "weighted avg       1.00      0.41      0.58     13164\n",
      "\n",
      "[[   0    0    0    0    0    0    0    0    0    0]\n",
      " [   0    0    0    0    0    0    0    0    0    0]\n",
      " [   0    0    0    0    0    0    0    0    0    0]\n",
      " [   2    0    0    3    0    0    0    0    0    0]\n",
      " [   0    0    0    0    0    0    0    0    0    0]\n",
      " [   0    0    0    0    0    0    0    0    0    0]\n",
      " [   0    0    0    0    0    0    0    0    0    0]\n",
      " [ 952 1508    3 1712    3 1889    1 5381    1 1709]\n",
      " [   0    0    0    0    0    0    0    0    0    0]\n",
      " [   0    0    0    0    0    0    0    0    0    0]]\n"
     ]
    }
   ],
   "source": [
    "class_report , conf_matrix = RF_classifier(train_vecs, Y_train, test_vecs, Y_test)\n",
    "print('Results of Random Forest Classifier on TF-IDF Vectorizer')\n",
    "print(class_report)\n",
    "print(conf_matrix)"
   ]
  },
  {
   "cell_type": "code",
   "execution_count": null,
   "id": "4d5745ee",
   "metadata": {},
   "outputs": [],
   "source": []
  }
 ],
 "metadata": {
  "kernelspec": {
   "display_name": "Python 3 (ipykernel)",
   "language": "python",
   "name": "python3"
  },
  "language_info": {
   "codemirror_mode": {
    "name": "ipython",
    "version": 3
   },
   "file_extension": ".py",
   "mimetype": "text/x-python",
   "name": "python",
   "nbconvert_exporter": "python",
   "pygments_lexer": "ipython3",
   "version": "3.7.15"
  }
 },
 "nbformat": 4,
 "nbformat_minor": 5
}
